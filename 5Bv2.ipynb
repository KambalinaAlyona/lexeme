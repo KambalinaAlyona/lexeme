{
  "nbformat": 4,
  "nbformat_minor": 0,
  "metadata": {
    "colab": {
      "provenance": [],
      "mount_file_id": "1kvJo3QR3M0ipdyh7DgmPoC7p9MT1hZEh",
      "authorship_tag": "ABX9TyOxKwpmm8SbcUuofHomt2kj",
      "include_colab_link": true
    },
    "kernelspec": {
      "name": "python3",
      "display_name": "Python 3"
    },
    "language_info": {
      "name": "python"
    },
    "accelerator": "GPU",
    "gpuClass": "standard"
  },
  "cells": [
    {
      "cell_type": "markdown",
      "metadata": {
        "id": "view-in-github",
        "colab_type": "text"
      },
      "source": [
        "<a href=\"https://colab.research.google.com/github/KambalinaAlyona/lexeme/blob/master/5Bv2.ipynb\" target=\"_parent\"><img src=\"https://colab.research.google.com/assets/colab-badge.svg\" alt=\"Open In Colab\"/></a>"
      ]
    },
    {
      "cell_type": "code",
      "source": [
        "import numpy as np\n",
        "import pandas as pd\n",
        "import tensorflow as tf\n",
        "from pandas import Series, DataFrame\n",
        "import pandas.plotting as plot\n",
        "import matplotlib.pyplot as plt\n",
        "import math\n",
        "import matplotlib as mpl\n",
        "import seaborn as sns\n",
        "import timeit\n",
        "import os\n",
        "from tensorflow.python.client import device_lib"
      ],
      "metadata": {
        "id": "XqrgKT3UyeCr"
      },
      "execution_count": null,
      "outputs": []
    },
    {
      "cell_type": "code",
      "source": [
        "# Определим доступность GPU (первая/старая - количество, вторая/новая - да/нет)\n",
        "print(\"Num GPUs Available: \", len(tf.config.list_physical_devices('GPU')))\n",
        "print(\"Num GPUs available: \", tf.test.is_gpu_available())\n",
        "\n",
        "print(\"Num Physical GPUs Available: \", len(tf.config.experimental.list_physical_devices('GPU')))\n",
        "print(\"Num Logical GPUs Available: \", len(tf.config.experimental.list_logical_devices('GPU')))\n",
        "print(\"Num CPUs Available: \", len(tf.config.experimental.list_physical_devices('CPU')))\n",
        "\n",
        "print(\"Num Physical GPUs 1 Available: \", len(tf.config.experimental.list_physical_devices('/device:GPU:0')))\n",
        "print(\"Num Physical GPUs 2 Available: \", len(tf.config.experimental.list_logical_devices('/device:GPU:1')))\n",
        "print(\"Num CPUs Available: \", len(tf.config.experimental.list_logical_devices('/device:CPU:0')))\n",
        "\n",
        "#определим версию Tensorflow\n",
        "print(\"Tensorflow version\", tf.__version__)\n",
        "\n",
        "print(\"CUDA \", tf.test.is_built_with_cuda())\n",
        "\n",
        "os.environ[\"CUDA_VISIBLE_DEVICES\"] = \"\"\n",
        "\n",
        "#Проведем дополнительные проверки\n",
        "print(\"Check info about GPU\")\n",
        "print(len(tf.config.list_physical_devices('/device:CPU:0')))\n",
        "print(len(tf.config.list_physical_devices('/device:GPU:0')))\n",
        "print(len(tf.config.list_physical_devices('/device:GPU:1')))\n",
        "print(len(tf.config.list_physical_devices('CPU_0')))\n",
        "print(len(tf.config.list_physical_devices('GPU_0')))\n",
        "print(len(tf.config.list_physical_devices('GPU_1')))\n",
        "\n",
        "#Выведем список доступных устройств и текущее устройство\n",
        "print(\"Local devices: \")\n",
        "\n",
        "print(device_lib.list_local_devices())\n",
        "\n",
        "device_name = tf.test.gpu_device_name()\n",
        "if \"GPU\" not in device_name:\n",
        "    print(\"GPU device not found\")\n",
        "print('Found GPU at: {}'.format(device_name))"
      ],
      "metadata": {
        "colab": {
          "base_uri": "https://localhost:8080/"
        },
        "id": "HLampt3syXmX",
        "outputId": "b77c50ba-64d0-49d9-ef6d-1b9675cf13a0"
      },
      "execution_count": null,
      "outputs": [
        {
          "output_type": "stream",
          "name": "stderr",
          "text": [
            "WARNING:tensorflow:From <ipython-input-3-e4a300f1ec63>:3: is_gpu_available (from tensorflow.python.framework.test_util) is deprecated and will be removed in a future version.\n",
            "Instructions for updating:\n",
            "Use `tf.config.list_physical_devices('GPU')` instead.\n"
          ]
        },
        {
          "output_type": "stream",
          "name": "stdout",
          "text": [
            "Num GPUs Available:  1\n",
            "Num GPUs available:  True\n",
            "Num Physical GPUs Available:  1\n",
            "Num Logical GPUs Available:  1\n",
            "Num CPUs Available:  1\n",
            "Num Physical GPUs 1 Available:  0\n",
            "Num Physical GPUs 2 Available:  0\n",
            "Num CPUs Available:  0\n",
            "Tensorflow version 2.11.0\n",
            "CUDA  True\n",
            "Check info about GPU\n",
            "0\n",
            "0\n",
            "0\n",
            "0\n",
            "0\n",
            "0\n",
            "Local devices: \n",
            "[name: \"/device:CPU:0\"\n",
            "device_type: \"CPU\"\n",
            "memory_limit: 268435456\n",
            "locality {\n",
            "}\n",
            "incarnation: 9710604428883121122\n",
            "xla_global_id: -1\n",
            ", name: \"/device:GPU:0\"\n",
            "device_type: \"GPU\"\n",
            "memory_limit: 14401011712\n",
            "locality {\n",
            "  bus_id: 1\n",
            "  links {\n",
            "  }\n",
            "}\n",
            "incarnation: 2196028767713254585\n",
            "physical_device_desc: \"device: 0, name: Tesla T4, pci bus id: 0000:00:04.0, compute capability: 7.5\"\n",
            "xla_global_id: 416903419\n",
            "]\n",
            "Found GPU at: /device:GPU:0\n"
          ]
        }
      ]
    },
    {
      "cell_type": "code",
      "execution_count": null,
      "metadata": {
        "colab": {
          "base_uri": "https://localhost:8080/"
        },
        "id": "i5e7y-clyN4y",
        "outputId": "18e1a502-335c-4074-845e-7d68a88ae581"
      },
      "outputs": [
        {
          "output_type": "stream",
          "name": "stdout",
          "text": [
            "83.71301325599984\n",
            "82.15431673400008\n",
            "GPU speedup over CPU: 1.0189727890628866x\n"
          ]
        }
      ],
      "source": [
        "def cpu():\n",
        "  with tf.device('/device:CPU:0'):\n",
        "      start_timer = timeit.default_timer()\n",
        "      #url = 'C:\\\\Users\\\\Alyon\\\\source\\\\repos\\\\PythonApplication2\\\\brooklyn_sales_map.csv'\n",
        "      url = '/content/drive/MyDrive/Colab Notebooks/brooklyn_sales_map.csv'\n",
        "      cols = list(pd.read_csv(url, nrows =1))\n",
        "      data = pd.read_csv(url, usecols=cols, low_memory=False) \n",
        "      data['SHAPE_Leng'] = data['SHAPE_Leng'] + 10\n",
        "      #     print(data['year_built'])\n",
        "      end_timer = timeit.default_timer()\n",
        "      return (end_timer - start_timer, \"seconds\")\n",
        "\n",
        "def gpu():\n",
        "   with tf.device('/device:GPU:0'):\n",
        "      start_timer = timeit.default_timer()\n",
        "      #url = 'C:\\\\Users\\\\Alyon\\\\source\\\\repos\\\\PythonApplication2\\\\brooklyn_sales_map.csv'\n",
        "      url = '/content/drive/MyDrive/Colab Notebooks/brooklyn_sales_map.csv'\n",
        "      cols = list(pd.read_csv(url, nrows =1))\n",
        "      data = pd.read_csv(url, usecols=cols, low_memory=False) \n",
        "      data['SHAPE_Leng'] = data['SHAPE_Leng'] + 10\n",
        "#     print(data['year_built'])\n",
        "      end_timer = timeit.default_timer()\n",
        "      return (end_timer - start_timer, \"seconds\")\n",
        "\n",
        "\n",
        "import_pd = \"\"\"\n",
        "import pandas as pd\n",
        "\"\"\"\n",
        "\n",
        "sns.set(style=\"darkgrid\")\n",
        "\n",
        "#url = 'C:\\\\Users\\\\Alyon\\\\source\\\\repos\\\\PythonApplication2\\\\brooklyn_sales_map.csv'\n",
        "#url = '/content/drive/MyDrive/Colab Notebooks/brooklyn_sales_map.csv'\n",
        "#cols = list(pd.read_csv(url, nrows =1))\n",
        "#data = pd.read_csv(url, usecols=cols, low_memory=False )\n",
        "   \n",
        "#количество столбцов\n",
        "#data.count(axis=0)\n",
        "\n",
        "#print(data['year_built'])\n",
        "\n",
        "cpu_test = \"\"\" \n",
        "cpu()\n",
        "\"\"\"\n",
        "\n",
        "gpu_test = \"\"\" \n",
        "gpu()\n",
        "\"\"\"\n",
        "\n",
        "#print(data['year_built'])\n",
        "\n",
        "cpu()\n",
        "gpu()\n",
        "\n",
        "cpu_time = timeit.timeit('cpu()', number=10, setup=\"from __main__ import cpu\")\n",
        "print(cpu_time)\n",
        "\n",
        "gpu_time = timeit.timeit('gpu()', number=10, setup=\"from __main__ import gpu\")\n",
        "print(gpu_time)\n",
        "\n",
        "print('GPU speedup over CPU: {}x'.format(float(cpu_time/gpu_time)))"
      ]
    }
  ]
}